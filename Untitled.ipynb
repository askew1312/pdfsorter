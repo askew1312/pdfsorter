{
 "cells": [
  {
   "cell_type": "code",
   "execution_count": 5,
   "metadata": {},
   "outputs": [
    {
     "name": "stdout",
     "output_type": "stream",
     "text": [
      "Collecting pdfrw\n",
      "  Using cached https://files.pythonhosted.org/packages/c0/84/af442c4458756bb0c0d2424102d1200616f3ff9b82c48aaa130e08549bf6/pdfrw-0.4-py2.py3-none-any.whl\n",
      "Installing collected packages: pdfrw\n",
      "Successfully installed pdfrw-0.4\n"
     ]
    }
   ],
   "source": [
    "!pip install pdfrw"
   ]
  },
  {
   "cell_type": "code",
   "execution_count": 22,
   "metadata": {},
   "outputs": [
    {
     "name": "stdout",
     "output_type": "stream",
     "text": [
      "True 1\n",
      "True 2\n",
      "True 3\n",
      "True 4\n",
      "True 5\n",
      "True 6\n"
     ]
    }
   ],
   "source": [
    "import xlrd\n",
    "from collections import defaultdict\n",
    "\n",
    "from pdfrw import PdfReader, PdfWriter, IndirectPdfDict\n",
    "\n",
    "def fname_from_str(s):\n",
    "    if type(s) == float:\n",
    "        s = str(int(s))\n",
    "    return 'unprocessed/' + s + '.pdf'\n",
    "\n",
    "def getBGColor(book, sheet, row, col):\n",
    "    xfx = sheet.cell_xf_index(row, col)\n",
    "    xf = book.xf_list[xfx]\n",
    "    bgx = xf.background.pattern_colour_index\n",
    "    pattern_colour = book.colour_map[bgx]\n",
    "    return pattern_colour\n",
    "\n",
    "def clean_trial_type(t):\n",
    "    if t == 'Post conviction' or t == 'post conviction':\n",
    "        return 'Post-Conviction'\n",
    "    return t\n",
    "\n",
    "pdfs = defaultdict(PdfWriter)\n",
    "found = False\n",
    "  \n",
    "wb = xlrd.open_workbook('unprocessed/records.xls', formatting_info=True) \n",
    "sheet = wb.sheet_by_index(0) \n",
    "\n",
    "for r in range(1, sheet.nrows):\n",
    "    row = [sheet.cell_value(r, _) for _ in [0, 1, 2]]\n",
    "    if row == ['', '', '']:\n",
    "        break\n",
    "    color = getBGColor(wb, sheet, r, 0)\n",
    "    if color:\n",
    "        fname = row[0].replace('unprocessed records - ', '')\n",
    "        if len(str(fname)) > 5:\n",
    "            found = False\n",
    "            continue\n",
    "        else:\n",
    "            current_pdf = PdfReader(fname_from_str(fname)).pages\n",
    "            found = True\n",
    "        print(found, fname)\n",
    "    elif found:\n",
    "#         print(row)\n",
    "#         print(fname)\n",
    "        pdfs[clean_trial_type(row[1])].addpage(current_pdf[int(row[0]) - 1])\n",
    "\n",
    "\n",
    "for name, items in pdfs.items():\n",
    "    items.write(name + '.pdf')\n"
   ]
  },
  {
   "cell_type": "code",
   "execution_count": 19,
   "metadata": {},
   "outputs": [
    {
     "name": "stdout",
     "output_type": "stream",
     "text": [
      "\u001b[31m1.pdf\u001b[m\u001b[m*\r\n",
      "\u001b[31m2.pdf\u001b[m\u001b[m*\r\n",
      "\u001b[31m2018.11.09_Meikle_Hartford JD files.pdf\u001b[m\u001b[m*\r\n",
      "\u001b[31m3.pdf\u001b[m\u001b[m*\r\n",
      "\u001b[31m4.pdf\u001b[m\u001b[m*\r\n",
      "\u001b[31m5.pdf\u001b[m\u001b[m*\r\n",
      "\u001b[31m6.pdf\u001b[m\u001b[m*\r\n",
      "\u001b[31m7.pdf\u001b[m\u001b[m*\r\n",
      "\u001b[31m8.pdf\u001b[m\u001b[m*\r\n",
      "\u001b[34mJennys thing - ignore\u001b[m\u001b[m/\r\n",
      "\u001b[31mMeikle Petition.pdf\u001b[m\u001b[m*\r\n",
      "records.xlsx\r\n"
     ]
    }
   ],
   "source": [
    "ls Unprocessed\\ Records"
   ]
  },
  {
   "cell_type": "code",
   "execution_count": null,
   "metadata": {},
   "outputs": [],
   "source": []
  }
 ],
 "metadata": {
  "kernelspec": {
   "display_name": "Python 3",
   "language": "python",
   "name": "python3"
  },
  "language_info": {
   "codemirror_mode": {
    "name": "ipython",
    "version": 3
   },
   "file_extension": ".py",
   "mimetype": "text/x-python",
   "name": "python",
   "nbconvert_exporter": "python",
   "pygments_lexer": "ipython3",
   "version": "3.7.1"
  }
 },
 "nbformat": 4,
 "nbformat_minor": 2
}
